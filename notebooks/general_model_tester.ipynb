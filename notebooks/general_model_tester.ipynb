{
 "cells": [
  {
   "cell_type": "code",
   "execution_count": 3,
   "metadata": {},
   "outputs": [],
   "source": [
    "import tensorflow as tf\n",
    "import matplotlib.pyplot as plt"
   ]
  },
  {
   "cell_type": "code",
   "execution_count": null,
   "metadata": {},
   "outputs": [],
   "source": [
    "class ModelTrainingFramework:\n",
    "    def __init__(self, model, train_data, val_data, batch_size=32, epochs=20):\n",
    "        self.model = model\n",
    "        self.train_data = train_data\n",
    "        self.val_data = val_data\n",
    "        self.batch_size = batch_size\n",
    "        self.epochs = epochs \n",
    "        \n",
    "    def prepare_dataset(self):\n",
    "        train_dataset = tf.data.Dataset.from_tensor_slices(self.train_data)\n",
    "        train_dataset = train_dataset.batch(self.batch_size).shuffle(buffer_size=1000)\n",
    "        \n",
    "        val_dataset = tf.data.Dataset.from_tensor_slices(self.val_data)\n",
    "        val_dataset = val_dataset.batch(self.batch_size)\n",
    "        \n",
    "        return train_dataset, val_dataset\n",
    "    \n",
    "    def train(self):\n",
    "        train_dataset, val_dataset = self.prepare_dataset()\n",
    "        \n",
    "        self.model.compile(optimizer='adam', loss='sparse_categorical_crossentropy', metrics=['accuracy', 'f1_score'])\n",
    "        history = self.model.fit(train_dataset, epochs=self.epochs, validation_data=val_dataset)\n",
    "        \n",
    "        return history\n",
    "    \n",
    "    def plot_history(self, history):\n",
    "        plt.figure(figsize=(12,4))\n",
    "        \n",
    "        plt.subplot(1, 2, 1)\n",
    "        plt.plot(history.history['accuracy'], label='Training Accuracy')\n",
    "        plt.plot(history.history['val_accuracy'], label='Validation Accuracy')\n",
    "        plt.title('Accuracy Over Epochs')\n",
    "        plt.xlabel('Epochs')\n",
    "        plt.ylabel('Accuracy')\n",
    "        plt.legend()\n",
    "        \n",
    "        plt.subplot(1, 2, 2)\n",
    "        plt.plot(history.history['loss'], label='Training Loss')\n",
    "        plt.plot(history.history['val_loss'], label='Validation Loss')\n",
    "        plt.title('Loss Over Epochs')\n",
    "        plt.xlabel('Epochs')\n",
    "        plt.ylabel('Loss')\n",
    "        plt.legend()\n",
    "        \n",
    "        plt.show()\n",
    "        \n",
    "    def evaluate_model(self):\n",
    "        val_dataset = tf.data.Dataset.from_tensor_slices(self.val_data).batch(self.batch_size)\n",
    "        loss, accuracy = self.model.evaluate(val_dataset)\n",
    "        print(f\"Validation Loss: {loss}\")\n",
    "        print(f\"Validation Accuracy: {accuracy}\")"
   ]
  },
  {
   "cell_type": "code",
   "execution_count": null,
   "metadata": {},
   "outputs": [],
   "source": [
    "ssd_model = #use create_model\n",
    "\n",
    "framework = ModelTrainingFramework(model=, train_data=, val_data=, batch_size=, epochs=)\n",
    "\n",
    "history = framework.train()\n",
    "\n",
    "framework.plot_history(history)\n",
    "\n",
    "framework.evaluate_model()"
   ]
  }
 ],
 "metadata": {
  "kernelspec": {
   "display_name": "Python 3",
   "language": "python",
   "name": "python3"
  },
  "language_info": {
   "codemirror_mode": {
    "name": "ipython",
    "version": 3
   },
   "file_extension": ".py",
   "mimetype": "text/x-python",
   "name": "python",
   "nbconvert_exporter": "python",
   "pygments_lexer": "ipython3",
   "version": "3.11.9"
  }
 },
 "nbformat": 4,
 "nbformat_minor": 2
}
