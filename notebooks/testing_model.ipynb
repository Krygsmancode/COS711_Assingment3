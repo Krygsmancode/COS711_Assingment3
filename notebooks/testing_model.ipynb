{
 "cells": [
  {
   "cell_type": "code",
   "execution_count": 1,
   "metadata": {},
   "outputs": [],
   "source": [
    "from src.models.testing_model import model_builder_v0\n",
    "from config import GLOBAL_CONFIG_DATA_PATH, GLOBAL_CONFIG_DATA_RAW_IMAGE_PATH, GLOBAL_CONFIG_DATA_RAW_LABEL_PATH, GLOBAL_CONFIG_RESULT_PATH"
   ]
  },
  {
   "cell_type": "code",
   "execution_count": 3,
   "metadata": {},
   "outputs": [
    {
     "name": "stdout",
     "output_type": "stream",
     "text": [
      "            Image_ID        class  confidence  ymin  xmin  ymax  xmax\n",
      "0  id_u3q6jdck4j.jpg  Trophozoite         1.0   712  1241   737  1270\n",
      "1  id_a6cl90trri.jpg  Trophozoite         1.0   558  1566   600  1604\n",
      "2  id_qvc2le9sm8.jpg  Trophozoite         1.0  1317  2788  1448  2914\n",
      "3  id_w8xnbd5rvm.jpg  Trophozoite         1.0   925  1744  1041  1823\n",
      "4  id_6dop09rk02.jpg          NEG         1.0     0     0     0     0\n"
     ]
    },
    {
     "ename": "ValueError",
     "evalue": "invalid literal for int() with base 10: 'Trophozoite'",
     "output_type": "error",
     "traceback": [
      "\u001b[1;31m---------------------------------------------------------------------------\u001b[0m",
      "\u001b[1;31mValueError\u001b[0m                                Traceback (most recent call last)",
      "Cell \u001b[1;32mIn[3], line 36\u001b[0m\n\u001b[0;32m     33\u001b[0m labels \u001b[38;5;241m=\u001b[39m np\u001b[38;5;241m.\u001b[39marray(labels)\n\u001b[0;32m     35\u001b[0m \u001b[38;5;66;03m# Convert class labels to one-hot encoding (if necessary)\u001b[39;00m\n\u001b[1;32m---> 36\u001b[0m labels \u001b[38;5;241m=\u001b[39m \u001b[43mto_categorical\u001b[49m\u001b[43m(\u001b[49m\u001b[43mlabels\u001b[49m\u001b[43m,\u001b[49m\u001b[43m \u001b[49m\u001b[43mnum_classes\u001b[49m\u001b[38;5;241;43m=\u001b[39;49m\u001b[38;5;241;43m3\u001b[39;49m\u001b[43m)\u001b[49m  \u001b[38;5;66;03m# Adjust num_classes if necessary\u001b[39;00m\n\u001b[0;32m     38\u001b[0m \u001b[38;5;66;03m# Split the data into training and validation sets\u001b[39;00m\n\u001b[0;32m     39\u001b[0m X_train, X_val, y_train, y_val \u001b[38;5;241m=\u001b[39m train_test_split(images, labels, test_size\u001b[38;5;241m=\u001b[39m\u001b[38;5;241m0.2\u001b[39m, random_state\u001b[38;5;241m=\u001b[39m\u001b[38;5;241m42\u001b[39m)\n",
      "File \u001b[1;32me:\\Uni Projects\\COS 711\\Repo\\COS711_Assingment3\\venv\\Lib\\site-packages\\keras\\src\\utils\\numerical_utils.py:87\u001b[0m, in \u001b[0;36mto_categorical\u001b[1;34m(x, num_classes)\u001b[0m\n\u001b[0;32m     85\u001b[0m         x \u001b[38;5;241m=\u001b[39m backend\u001b[38;5;241m.\u001b[39mnumpy\u001b[38;5;241m.\u001b[39mreshape(x, newshape)\n\u001b[0;32m     86\u001b[0m     \u001b[38;5;28;01mreturn\u001b[39;00m backend\u001b[38;5;241m.\u001b[39mnn\u001b[38;5;241m.\u001b[39mone_hot(x, num_classes)\n\u001b[1;32m---> 87\u001b[0m x \u001b[38;5;241m=\u001b[39m \u001b[43mnp\u001b[49m\u001b[38;5;241;43m.\u001b[39;49m\u001b[43marray\u001b[49m\u001b[43m(\u001b[49m\u001b[43mx\u001b[49m\u001b[43m,\u001b[49m\u001b[43m \u001b[49m\u001b[43mdtype\u001b[49m\u001b[38;5;241;43m=\u001b[39;49m\u001b[38;5;124;43m\"\u001b[39;49m\u001b[38;5;124;43mint64\u001b[39;49m\u001b[38;5;124;43m\"\u001b[39;49m\u001b[43m)\u001b[49m\n\u001b[0;32m     88\u001b[0m input_shape \u001b[38;5;241m=\u001b[39m x\u001b[38;5;241m.\u001b[39mshape\n\u001b[0;32m     90\u001b[0m \u001b[38;5;66;03m# Shrink the last dimension if the shape is (..., 1).\u001b[39;00m\n",
      "\u001b[1;31mValueError\u001b[0m: invalid literal for int() with base 10: 'Trophozoite'"
     ]
    }
   ],
   "source": [
    "import pandas as pd\n",
    "import numpy as np\n",
    "import tensorflow as tf\n",
    "from tensorflow.keras.preprocessing.image import load_img, img_to_array\n",
    "from tensorflow.keras.utils import to_categorical\n",
    "from sklearn.model_selection import train_test_split\n",
    "\n",
    "# Load the data from CSV\n",
    "csv_file = GLOBAL_CONFIG_DATA_RAW_LABEL_PATH  # Replace with your CSV file path\n",
    "data = pd.read_csv(csv_file)\n",
    "\n",
    "# Print the first few rows of the dataframe\n",
    "print(data.head())\n",
    "\n",
    "# Prepare the image data\n",
    "def load_and_preprocess_image(image_id):\n",
    "    # Load the image using the image ID (assuming images are stored in a specific directory)\n",
    "    img_path = f'{GLOBAL_CONFIG_DATA_RAW_IMAGE_PATH}{image_id}'  # Modify the path and extension as needed\n",
    "    img = load_img(img_path, target_size=(30, 30), color_mode='grayscale')  # Adjust size if needed\n",
    "    img_array = img_to_array(img) / 255.0  # Normalize the image\n",
    "    return img_array\n",
    "\n",
    "# Create arrays for images and labels\n",
    "images = []\n",
    "labels = []\n",
    "\n",
    "for index, row in data.iterrows():\n",
    "    img = load_and_preprocess_image(row['Image_ID'])\n",
    "    images.append(img)\n",
    "    labels.append(row['class'])  # Use the 'class' column for labels\n",
    "\n",
    "images = np.array(images)\n",
    "labels = np.array(labels)\n"
   ]
  },
  {
   "cell_type": "code",
   "execution_count": 11,
   "metadata": {},
   "outputs": [
    {
     "data": {
      "text/plain": [
       "array([[0., 1., 0.],\n",
       "       [0., 1., 0.],\n",
       "       [0., 1., 0.],\n",
       "       ...,\n",
       "       [0., 1., 0.],\n",
       "       [0., 1., 0.],\n",
       "       [0., 1., 0.]])"
      ]
     },
     "execution_count": 11,
     "metadata": {},
     "output_type": "execute_result"
    }
   ],
   "source": [
    "labels"
   ]
  },
  {
   "cell_type": "code",
   "execution_count": 17,
   "metadata": {},
   "outputs": [],
   "source": [
    "import tensorflow as tf\n",
    "from tensorflow.keras import layers, models"
   ]
  },
  {
   "cell_type": "code",
   "execution_count": 29,
   "metadata": {},
   "outputs": [
    {
     "data": {
      "text/html": [
       "<pre style=\"white-space:pre;overflow-x:auto;line-height:normal;font-family:Menlo,'DejaVu Sans Mono',consolas,'Courier New',monospace\"><span style=\"font-weight: bold\">Model: \"functional_4\"</span>\n",
       "</pre>\n"
      ],
      "text/plain": [
       "\u001b[1mModel: \"functional_4\"\u001b[0m\n"
      ]
     },
     "metadata": {},
     "output_type": "display_data"
    },
    {
     "data": {
      "text/html": [
       "<pre style=\"white-space:pre;overflow-x:auto;line-height:normal;font-family:Menlo,'DejaVu Sans Mono',consolas,'Courier New',monospace\">┏━━━━━━━━━━━━━━━━━━━━━┳━━━━━━━━━━━━━━━━━━━┳━━━━━━━━━━━━┳━━━━━━━━━━━━━━━━━━━┓\n",
       "┃<span style=\"font-weight: bold\"> Layer (type)        </span>┃<span style=\"font-weight: bold\"> Output Shape      </span>┃<span style=\"font-weight: bold\">    Param # </span>┃<span style=\"font-weight: bold\"> Connected to      </span>┃\n",
       "┡━━━━━━━━━━━━━━━━━━━━━╇━━━━━━━━━━━━━━━━━━━╇━━━━━━━━━━━━╇━━━━━━━━━━━━━━━━━━━┩\n",
       "│ input_layer_7       │ (<span style=\"color: #00d7ff; text-decoration-color: #00d7ff\">None</span>, <span style=\"color: #00af00; text-decoration-color: #00af00\">30</span>, <span style=\"color: #00af00; text-decoration-color: #00af00\">30</span>, <span style=\"color: #00af00; text-decoration-color: #00af00\">1</span>) │          <span style=\"color: #00af00; text-decoration-color: #00af00\">0</span> │ -                 │\n",
       "│ (<span style=\"color: #0087ff; text-decoration-color: #0087ff\">InputLayer</span>)        │                   │            │                   │\n",
       "├─────────────────────┼───────────────────┼────────────┼───────────────────┤\n",
       "│ conv2d_17 (<span style=\"color: #0087ff; text-decoration-color: #0087ff\">Conv2D</span>)  │ (<span style=\"color: #00d7ff; text-decoration-color: #00d7ff\">None</span>, <span style=\"color: #00af00; text-decoration-color: #00af00\">28</span>, <span style=\"color: #00af00; text-decoration-color: #00af00\">28</span>, <span style=\"color: #00af00; text-decoration-color: #00af00\">7</span>) │         <span style=\"color: #00af00; text-decoration-color: #00af00\">70</span> │ input_layer_7[<span style=\"color: #00af00; text-decoration-color: #00af00\">0</span>]… │\n",
       "├─────────────────────┼───────────────────┼────────────┼───────────────────┤\n",
       "│ conv2d_18 (<span style=\"color: #0087ff; text-decoration-color: #0087ff\">Conv2D</span>)  │ (<span style=\"color: #00d7ff; text-decoration-color: #00d7ff\">None</span>, <span style=\"color: #00af00; text-decoration-color: #00af00\">28</span>, <span style=\"color: #00af00; text-decoration-color: #00af00\">28</span>, <span style=\"color: #00af00; text-decoration-color: #00af00\">1</span>) │          <span style=\"color: #00af00; text-decoration-color: #00af00\">8</span> │ conv2d_17[<span style=\"color: #00af00; text-decoration-color: #00af00\">0</span>][<span style=\"color: #00af00; text-decoration-color: #00af00\">0</span>]   │\n",
       "├─────────────────────┼───────────────────┼────────────┼───────────────────┤\n",
       "│ conv2d_19 (<span style=\"color: #0087ff; text-decoration-color: #0087ff\">Conv2D</span>)  │ (<span style=\"color: #00d7ff; text-decoration-color: #00d7ff\">None</span>, <span style=\"color: #00af00; text-decoration-color: #00af00\">26</span>, <span style=\"color: #00af00; text-decoration-color: #00af00\">26</span>, <span style=\"color: #00af00; text-decoration-color: #00af00\">5</span>) │         <span style=\"color: #00af00; text-decoration-color: #00af00\">50</span> │ conv2d_18[<span style=\"color: #00af00; text-decoration-color: #00af00\">0</span>][<span style=\"color: #00af00; text-decoration-color: #00af00\">0</span>]   │\n",
       "├─────────────────────┼───────────────────┼────────────┼───────────────────┤\n",
       "│ max_pooling2d_8     │ (<span style=\"color: #00d7ff; text-decoration-color: #00d7ff\">None</span>, <span style=\"color: #00af00; text-decoration-color: #00af00\">13</span>, <span style=\"color: #00af00; text-decoration-color: #00af00\">13</span>, <span style=\"color: #00af00; text-decoration-color: #00af00\">5</span>) │          <span style=\"color: #00af00; text-decoration-color: #00af00\">0</span> │ conv2d_19[<span style=\"color: #00af00; text-decoration-color: #00af00\">0</span>][<span style=\"color: #00af00; text-decoration-color: #00af00\">0</span>]   │\n",
       "│ (<span style=\"color: #0087ff; text-decoration-color: #0087ff\">MaxPooling2D</span>)      │                   │            │                   │\n",
       "├─────────────────────┼───────────────────┼────────────┼───────────────────┤\n",
       "│ conv2d_16 (<span style=\"color: #0087ff; text-decoration-color: #0087ff\">Conv2D</span>)  │ (<span style=\"color: #00d7ff; text-decoration-color: #00d7ff\">None</span>, <span style=\"color: #00af00; text-decoration-color: #00af00\">26</span>, <span style=\"color: #00af00; text-decoration-color: #00af00\">26</span>, <span style=\"color: #00af00; text-decoration-color: #00af00\">5</span>) │        <span style=\"color: #00af00; text-decoration-color: #00af00\">130</span> │ input_layer_7[<span style=\"color: #00af00; text-decoration-color: #00af00\">0</span>]… │\n",
       "├─────────────────────┼───────────────────┼────────────┼───────────────────┤\n",
       "│ flatten_8 (<span style=\"color: #0087ff; text-decoration-color: #0087ff\">Flatten</span>) │ (<span style=\"color: #00d7ff; text-decoration-color: #00d7ff\">None</span>, <span style=\"color: #00af00; text-decoration-color: #00af00\">845</span>)       │          <span style=\"color: #00af00; text-decoration-color: #00af00\">0</span> │ max_pooling2d_8[<span style=\"color: #00af00; text-decoration-color: #00af00\">…</span> │\n",
       "├─────────────────────┼───────────────────┼────────────┼───────────────────┤\n",
       "│ max_pooling2d_9     │ (<span style=\"color: #00d7ff; text-decoration-color: #00d7ff\">None</span>, <span style=\"color: #00af00; text-decoration-color: #00af00\">13</span>, <span style=\"color: #00af00; text-decoration-color: #00af00\">13</span>, <span style=\"color: #00af00; text-decoration-color: #00af00\">5</span>) │          <span style=\"color: #00af00; text-decoration-color: #00af00\">0</span> │ conv2d_16[<span style=\"color: #00af00; text-decoration-color: #00af00\">0</span>][<span style=\"color: #00af00; text-decoration-color: #00af00\">0</span>]   │\n",
       "│ (<span style=\"color: #0087ff; text-decoration-color: #0087ff\">MaxPooling2D</span>)      │                   │            │                   │\n",
       "├─────────────────────┼───────────────────┼────────────┼───────────────────┤\n",
       "│ dense_8 (<span style=\"color: #0087ff; text-decoration-color: #0087ff\">Dense</span>)     │ (<span style=\"color: #00d7ff; text-decoration-color: #00d7ff\">None</span>, <span style=\"color: #00af00; text-decoration-color: #00af00\">5</span>)         │      <span style=\"color: #00af00; text-decoration-color: #00af00\">4,230</span> │ flatten_8[<span style=\"color: #00af00; text-decoration-color: #00af00\">0</span>][<span style=\"color: #00af00; text-decoration-color: #00af00\">0</span>]   │\n",
       "├─────────────────────┼───────────────────┼────────────┼───────────────────┤\n",
       "│ flatten_9 (<span style=\"color: #0087ff; text-decoration-color: #0087ff\">Flatten</span>) │ (<span style=\"color: #00d7ff; text-decoration-color: #00d7ff\">None</span>, <span style=\"color: #00af00; text-decoration-color: #00af00\">845</span>)       │          <span style=\"color: #00af00; text-decoration-color: #00af00\">0</span> │ max_pooling2d_9[<span style=\"color: #00af00; text-decoration-color: #00af00\">…</span> │\n",
       "├─────────────────────┼───────────────────┼────────────┼───────────────────┤\n",
       "│ concatenate_4       │ (<span style=\"color: #00d7ff; text-decoration-color: #00d7ff\">None</span>, <span style=\"color: #00af00; text-decoration-color: #00af00\">850</span>)       │          <span style=\"color: #00af00; text-decoration-color: #00af00\">0</span> │ dense_8[<span style=\"color: #00af00; text-decoration-color: #00af00\">0</span>][<span style=\"color: #00af00; text-decoration-color: #00af00\">0</span>],    │\n",
       "│ (<span style=\"color: #0087ff; text-decoration-color: #0087ff\">Concatenate</span>)       │                   │            │ flatten_9[<span style=\"color: #00af00; text-decoration-color: #00af00\">0</span>][<span style=\"color: #00af00; text-decoration-color: #00af00\">0</span>]   │\n",
       "├─────────────────────┼───────────────────┼────────────┼───────────────────┤\n",
       "│ dense_9 (<span style=\"color: #0087ff; text-decoration-color: #0087ff\">Dense</span>)     │ (<span style=\"color: #00d7ff; text-decoration-color: #00d7ff\">None</span>, <span style=\"color: #00af00; text-decoration-color: #00af00\">3</span>)         │      <span style=\"color: #00af00; text-decoration-color: #00af00\">2,553</span> │ concatenate_4[<span style=\"color: #00af00; text-decoration-color: #00af00\">0</span>]… │\n",
       "└─────────────────────┴───────────────────┴────────────┴───────────────────┘\n",
       "</pre>\n"
      ],
      "text/plain": [
       "┏━━━━━━━━━━━━━━━━━━━━━┳━━━━━━━━━━━━━━━━━━━┳━━━━━━━━━━━━┳━━━━━━━━━━━━━━━━━━━┓\n",
       "┃\u001b[1m \u001b[0m\u001b[1mLayer (type)       \u001b[0m\u001b[1m \u001b[0m┃\u001b[1m \u001b[0m\u001b[1mOutput Shape     \u001b[0m\u001b[1m \u001b[0m┃\u001b[1m \u001b[0m\u001b[1m   Param #\u001b[0m\u001b[1m \u001b[0m┃\u001b[1m \u001b[0m\u001b[1mConnected to     \u001b[0m\u001b[1m \u001b[0m┃\n",
       "┡━━━━━━━━━━━━━━━━━━━━━╇━━━━━━━━━━━━━━━━━━━╇━━━━━━━━━━━━╇━━━━━━━━━━━━━━━━━━━┩\n",
       "│ input_layer_7       │ (\u001b[38;5;45mNone\u001b[0m, \u001b[38;5;34m30\u001b[0m, \u001b[38;5;34m30\u001b[0m, \u001b[38;5;34m1\u001b[0m) │          \u001b[38;5;34m0\u001b[0m │ -                 │\n",
       "│ (\u001b[38;5;33mInputLayer\u001b[0m)        │                   │            │                   │\n",
       "├─────────────────────┼───────────────────┼────────────┼───────────────────┤\n",
       "│ conv2d_17 (\u001b[38;5;33mConv2D\u001b[0m)  │ (\u001b[38;5;45mNone\u001b[0m, \u001b[38;5;34m28\u001b[0m, \u001b[38;5;34m28\u001b[0m, \u001b[38;5;34m7\u001b[0m) │         \u001b[38;5;34m70\u001b[0m │ input_layer_7[\u001b[38;5;34m0\u001b[0m]… │\n",
       "├─────────────────────┼───────────────────┼────────────┼───────────────────┤\n",
       "│ conv2d_18 (\u001b[38;5;33mConv2D\u001b[0m)  │ (\u001b[38;5;45mNone\u001b[0m, \u001b[38;5;34m28\u001b[0m, \u001b[38;5;34m28\u001b[0m, \u001b[38;5;34m1\u001b[0m) │          \u001b[38;5;34m8\u001b[0m │ conv2d_17[\u001b[38;5;34m0\u001b[0m][\u001b[38;5;34m0\u001b[0m]   │\n",
       "├─────────────────────┼───────────────────┼────────────┼───────────────────┤\n",
       "│ conv2d_19 (\u001b[38;5;33mConv2D\u001b[0m)  │ (\u001b[38;5;45mNone\u001b[0m, \u001b[38;5;34m26\u001b[0m, \u001b[38;5;34m26\u001b[0m, \u001b[38;5;34m5\u001b[0m) │         \u001b[38;5;34m50\u001b[0m │ conv2d_18[\u001b[38;5;34m0\u001b[0m][\u001b[38;5;34m0\u001b[0m]   │\n",
       "├─────────────────────┼───────────────────┼────────────┼───────────────────┤\n",
       "│ max_pooling2d_8     │ (\u001b[38;5;45mNone\u001b[0m, \u001b[38;5;34m13\u001b[0m, \u001b[38;5;34m13\u001b[0m, \u001b[38;5;34m5\u001b[0m) │          \u001b[38;5;34m0\u001b[0m │ conv2d_19[\u001b[38;5;34m0\u001b[0m][\u001b[38;5;34m0\u001b[0m]   │\n",
       "│ (\u001b[38;5;33mMaxPooling2D\u001b[0m)      │                   │            │                   │\n",
       "├─────────────────────┼───────────────────┼────────────┼───────────────────┤\n",
       "│ conv2d_16 (\u001b[38;5;33mConv2D\u001b[0m)  │ (\u001b[38;5;45mNone\u001b[0m, \u001b[38;5;34m26\u001b[0m, \u001b[38;5;34m26\u001b[0m, \u001b[38;5;34m5\u001b[0m) │        \u001b[38;5;34m130\u001b[0m │ input_layer_7[\u001b[38;5;34m0\u001b[0m]… │\n",
       "├─────────────────────┼───────────────────┼────────────┼───────────────────┤\n",
       "│ flatten_8 (\u001b[38;5;33mFlatten\u001b[0m) │ (\u001b[38;5;45mNone\u001b[0m, \u001b[38;5;34m845\u001b[0m)       │          \u001b[38;5;34m0\u001b[0m │ max_pooling2d_8[\u001b[38;5;34m…\u001b[0m │\n",
       "├─────────────────────┼───────────────────┼────────────┼───────────────────┤\n",
       "│ max_pooling2d_9     │ (\u001b[38;5;45mNone\u001b[0m, \u001b[38;5;34m13\u001b[0m, \u001b[38;5;34m13\u001b[0m, \u001b[38;5;34m5\u001b[0m) │          \u001b[38;5;34m0\u001b[0m │ conv2d_16[\u001b[38;5;34m0\u001b[0m][\u001b[38;5;34m0\u001b[0m]   │\n",
       "│ (\u001b[38;5;33mMaxPooling2D\u001b[0m)      │                   │            │                   │\n",
       "├─────────────────────┼───────────────────┼────────────┼───────────────────┤\n",
       "│ dense_8 (\u001b[38;5;33mDense\u001b[0m)     │ (\u001b[38;5;45mNone\u001b[0m, \u001b[38;5;34m5\u001b[0m)         │      \u001b[38;5;34m4,230\u001b[0m │ flatten_8[\u001b[38;5;34m0\u001b[0m][\u001b[38;5;34m0\u001b[0m]   │\n",
       "├─────────────────────┼───────────────────┼────────────┼───────────────────┤\n",
       "│ flatten_9 (\u001b[38;5;33mFlatten\u001b[0m) │ (\u001b[38;5;45mNone\u001b[0m, \u001b[38;5;34m845\u001b[0m)       │          \u001b[38;5;34m0\u001b[0m │ max_pooling2d_9[\u001b[38;5;34m…\u001b[0m │\n",
       "├─────────────────────┼───────────────────┼────────────┼───────────────────┤\n",
       "│ concatenate_4       │ (\u001b[38;5;45mNone\u001b[0m, \u001b[38;5;34m850\u001b[0m)       │          \u001b[38;5;34m0\u001b[0m │ dense_8[\u001b[38;5;34m0\u001b[0m][\u001b[38;5;34m0\u001b[0m],    │\n",
       "│ (\u001b[38;5;33mConcatenate\u001b[0m)       │                   │            │ flatten_9[\u001b[38;5;34m0\u001b[0m][\u001b[38;5;34m0\u001b[0m]   │\n",
       "├─────────────────────┼───────────────────┼────────────┼───────────────────┤\n",
       "│ dense_9 (\u001b[38;5;33mDense\u001b[0m)     │ (\u001b[38;5;45mNone\u001b[0m, \u001b[38;5;34m3\u001b[0m)         │      \u001b[38;5;34m2,553\u001b[0m │ concatenate_4[\u001b[38;5;34m0\u001b[0m]… │\n",
       "└─────────────────────┴───────────────────┴────────────┴───────────────────┘\n"
      ]
     },
     "metadata": {},
     "output_type": "display_data"
    },
    {
     "data": {
      "text/html": [
       "<pre style=\"white-space:pre;overflow-x:auto;line-height:normal;font-family:Menlo,'DejaVu Sans Mono',consolas,'Courier New',monospace\"><span style=\"font-weight: bold\"> Total params: </span><span style=\"color: #00af00; text-decoration-color: #00af00\">7,041</span> (27.50 KB)\n",
       "</pre>\n"
      ],
      "text/plain": [
       "\u001b[1m Total params: \u001b[0m\u001b[38;5;34m7,041\u001b[0m (27.50 KB)\n"
      ]
     },
     "metadata": {},
     "output_type": "display_data"
    },
    {
     "data": {
      "text/html": [
       "<pre style=\"white-space:pre;overflow-x:auto;line-height:normal;font-family:Menlo,'DejaVu Sans Mono',consolas,'Courier New',monospace\"><span style=\"font-weight: bold\"> Trainable params: </span><span style=\"color: #00af00; text-decoration-color: #00af00\">7,041</span> (27.50 KB)\n",
       "</pre>\n"
      ],
      "text/plain": [
       "\u001b[1m Trainable params: \u001b[0m\u001b[38;5;34m7,041\u001b[0m (27.50 KB)\n"
      ]
     },
     "metadata": {},
     "output_type": "display_data"
    },
    {
     "data": {
      "text/html": [
       "<pre style=\"white-space:pre;overflow-x:auto;line-height:normal;font-family:Menlo,'DejaVu Sans Mono',consolas,'Courier New',monospace\"><span style=\"font-weight: bold\"> Non-trainable params: </span><span style=\"color: #00af00; text-decoration-color: #00af00\">0</span> (0.00 B)\n",
       "</pre>\n"
      ],
      "text/plain": [
       "\u001b[1m Non-trainable params: \u001b[0m\u001b[38;5;34m0\u001b[0m (0.00 B)\n"
      ]
     },
     "metadata": {},
     "output_type": "display_data"
    }
   ],
   "source": [
    "# Define the input shape\n",
    "input_shape = (30, 30, 1)\n",
    "inputs = layers.Input(shape=input_shape)\n",
    "\n",
    "# Branch 1: l1a\n",
    "l1a = layers.Conv2D(5, (5, 5), strides=(1, 1), activation='relu')(inputs)\n",
    "\n",
    "# Branch 2: l1b\n",
    "l1b = layers.Conv2D(7, (3, 3), strides=(1, 1), activation='relu')(inputs)\n",
    "l1b2 = layers.Conv2D(1, (1, 1), strides=(1, 1), activation='relu')(l1b)  # Compress to 1 channel\n",
    "\n",
    "# From l1b2 to l2a\n",
    "l2a = layers.Conv2D(5, (3, 3), strides=(1, 1), activation='relu')(l1b2)\n",
    "\n",
    "# Max pooling from l2a to l2a2\n",
    "l2a2 = layers.MaxPooling2D((2, 2), strides=(2, 2))(l2a)\n",
    "\n",
    "# Dense layer from l2a to l3a\n",
    "l3a = layers.Flatten()(l2a2)\n",
    "l3a = layers.Dense(5, activation='relu')(l3a)\n",
    "\n",
    "# max pooling from l1a to l1a2\n",
    "l1a2 = layers.MaxPooling2D((2, 2), strides=(2, 2))(l1a)\n",
    "\n",
    "# Flatten l1a to l2b\n",
    "l2b = layers.Flatten()(l1a2)\n",
    "\n",
    "# Combine l3a and l2b into l4a\n",
    "l4a = layers.concatenate([l3a, l2b])\n",
    "\n",
    "# Final output layer (example: for binary classification)\n",
    "output = layers.Dense(3, activation='softmax')(l4a)\n",
    "\n",
    "# Create the model\n",
    "model = models.Model(inputs=inputs, outputs=output)\n",
    "\n",
    "# Compile the model\n",
    "model.compile(optimizer='adam', loss='categorical_crossentropy', metrics=['accuracy', 'f1_score'])\n",
    "\n",
    "model.summary()"
   ]
  },
  {
   "cell_type": "code",
   "execution_count": 30,
   "metadata": {},
   "outputs": [
    {
     "name": "stdout",
     "output_type": "stream",
     "text": [
      "Epoch 1/20\n",
      "\u001b[1m589/589\u001b[0m \u001b[32m━━━━━━━━━━━━━━━━━━━━\u001b[0m\u001b[37m\u001b[0m \u001b[1m2s\u001b[0m 2ms/step - accuracy: 0.6522 - f1_score: 0.3910 - loss: 0.7202 - val_accuracy: 0.7187 - val_f1_score: 0.7412 - val_loss: 0.5689\n",
      "Epoch 2/20\n",
      "\u001b[1m589/589\u001b[0m \u001b[32m━━━━━━━━━━━━━━━━━━━━\u001b[0m\u001b[37m\u001b[0m \u001b[1m1s\u001b[0m 1ms/step - accuracy: 0.7227 - f1_score: 0.7188 - loss: 0.5528 - val_accuracy: 0.7346 - val_f1_score: 0.7286 - val_loss: 0.5367\n",
      "Epoch 3/20\n",
      "\u001b[1m589/589\u001b[0m \u001b[32m━━━━━━━━━━━━━━━━━━━━\u001b[0m\u001b[37m\u001b[0m \u001b[1m1s\u001b[0m 1ms/step - accuracy: 0.7312 - f1_score: 0.7372 - loss: 0.5330 - val_accuracy: 0.7337 - val_f1_score: 0.7212 - val_loss: 0.5361\n",
      "Epoch 4/20\n",
      "\u001b[1m589/589\u001b[0m \u001b[32m━━━━━━━━━━━━━━━━━━━━\u001b[0m\u001b[37m\u001b[0m \u001b[1m1s\u001b[0m 1ms/step - accuracy: 0.7412 - f1_score: 0.7501 - loss: 0.5224 - val_accuracy: 0.7310 - val_f1_score: 0.7616 - val_loss: 0.5356\n",
      "Epoch 5/20\n",
      "\u001b[1m589/589\u001b[0m \u001b[32m━━━━━━━━━━━━━━━━━━━━\u001b[0m\u001b[37m\u001b[0m \u001b[1m1s\u001b[0m 1ms/step - accuracy: 0.7402 - f1_score: 0.7519 - loss: 0.5180 - val_accuracy: 0.7395 - val_f1_score: 0.7567 - val_loss: 0.5228\n",
      "Epoch 6/20\n",
      "\u001b[1m589/589\u001b[0m \u001b[32m━━━━━━━━━━━━━━━━━━━━\u001b[0m\u001b[37m\u001b[0m \u001b[1m1s\u001b[0m 1ms/step - accuracy: 0.7501 - f1_score: 0.7655 - loss: 0.5074 - val_accuracy: 0.7465 - val_f1_score: 0.7629 - val_loss: 0.5192\n",
      "Epoch 7/20\n",
      "\u001b[1m589/589\u001b[0m \u001b[32m━━━━━━━━━━━━━━━━━━━━\u001b[0m\u001b[37m\u001b[0m \u001b[1m1s\u001b[0m 1ms/step - accuracy: 0.7492 - f1_score: 0.7681 - loss: 0.5048 - val_accuracy: 0.7467 - val_f1_score: 0.7503 - val_loss: 0.5198\n",
      "Epoch 8/20\n",
      "\u001b[1m589/589\u001b[0m \u001b[32m━━━━━━━━━━━━━━━━━━━━\u001b[0m\u001b[37m\u001b[0m \u001b[1m1s\u001b[0m 1ms/step - accuracy: 0.7527 - f1_score: 0.7708 - loss: 0.5012 - val_accuracy: 0.7348 - val_f1_score: 0.7106 - val_loss: 0.5340\n",
      "Epoch 9/20\n",
      "\u001b[1m589/589\u001b[0m \u001b[32m━━━━━━━━━━━━━━━━━━━━\u001b[0m\u001b[37m\u001b[0m \u001b[1m1s\u001b[0m 1ms/step - accuracy: 0.7642 - f1_score: 0.7804 - loss: 0.4876 - val_accuracy: 0.7416 - val_f1_score: 0.7435 - val_loss: 0.5191\n",
      "Epoch 10/20\n",
      "\u001b[1m589/589\u001b[0m \u001b[32m━━━━━━━━━━━━━━━━━━━━\u001b[0m\u001b[37m\u001b[0m \u001b[1m1s\u001b[0m 1ms/step - accuracy: 0.7608 - f1_score: 0.7752 - loss: 0.4887 - val_accuracy: 0.7350 - val_f1_score: 0.7758 - val_loss: 0.5261\n",
      "Epoch 11/20\n",
      "\u001b[1m589/589\u001b[0m \u001b[32m━━━━━━━━━━━━━━━━━━━━\u001b[0m\u001b[37m\u001b[0m \u001b[1m1s\u001b[0m 1ms/step - accuracy: 0.7580 - f1_score: 0.7791 - loss: 0.4921 - val_accuracy: 0.7442 - val_f1_score: 0.7545 - val_loss: 0.5163\n",
      "Epoch 12/20\n",
      "\u001b[1m589/589\u001b[0m \u001b[32m━━━━━━━━━━━━━━━━━━━━\u001b[0m\u001b[37m\u001b[0m \u001b[1m1s\u001b[0m 1ms/step - accuracy: 0.7627 - f1_score: 0.7859 - loss: 0.4843 - val_accuracy: 0.7429 - val_f1_score: 0.7545 - val_loss: 0.5152\n",
      "Epoch 13/20\n",
      "\u001b[1m589/589\u001b[0m \u001b[32m━━━━━━━━━━━━━━━━━━━━\u001b[0m\u001b[37m\u001b[0m \u001b[1m1s\u001b[0m 1ms/step - accuracy: 0.7710 - f1_score: 0.7885 - loss: 0.4741 - val_accuracy: 0.7418 - val_f1_score: 0.7736 - val_loss: 0.5193\n",
      "Epoch 14/20\n",
      "\u001b[1m589/589\u001b[0m \u001b[32m━━━━━━━━━━━━━━━━━━━━\u001b[0m\u001b[37m\u001b[0m \u001b[1m1s\u001b[0m 1ms/step - accuracy: 0.7722 - f1_score: 0.7926 - loss: 0.4768 - val_accuracy: 0.7182 - val_f1_score: 0.7777 - val_loss: 0.5483\n",
      "Epoch 15/20\n",
      "\u001b[1m589/589\u001b[0m \u001b[32m━━━━━━━━━━━━━━━━━━━━\u001b[0m\u001b[37m\u001b[0m \u001b[1m1s\u001b[0m 1ms/step - accuracy: 0.7713 - f1_score: 0.7918 - loss: 0.4778 - val_accuracy: 0.7397 - val_f1_score: 0.7784 - val_loss: 0.5202\n",
      "Epoch 16/20\n",
      "\u001b[1m589/589\u001b[0m \u001b[32m━━━━━━━━━━━━━━━━━━━━\u001b[0m\u001b[37m\u001b[0m \u001b[1m1s\u001b[0m 1ms/step - accuracy: 0.7671 - f1_score: 0.7847 - loss: 0.4767 - val_accuracy: 0.7490 - val_f1_score: 0.7661 - val_loss: 0.5136\n",
      "Epoch 17/20\n",
      "\u001b[1m589/589\u001b[0m \u001b[32m━━━━━━━━━━━━━━━━━━━━\u001b[0m\u001b[37m\u001b[0m \u001b[1m1s\u001b[0m 1ms/step - accuracy: 0.7691 - f1_score: 0.7901 - loss: 0.4719 - val_accuracy: 0.7391 - val_f1_score: 0.7577 - val_loss: 0.5141\n",
      "Epoch 18/20\n",
      "\u001b[1m589/589\u001b[0m \u001b[32m━━━━━━━━━━━━━━━━━━━━\u001b[0m\u001b[37m\u001b[0m \u001b[1m1s\u001b[0m 1ms/step - accuracy: 0.7710 - f1_score: 0.7969 - loss: 0.4737 - val_accuracy: 0.7397 - val_f1_score: 0.7811 - val_loss: 0.5233\n",
      "Epoch 19/20\n",
      "\u001b[1m589/589\u001b[0m \u001b[32m━━━━━━━━━━━━━━━━━━━━\u001b[0m\u001b[37m\u001b[0m \u001b[1m1s\u001b[0m 1ms/step - accuracy: 0.7689 - f1_score: 0.7902 - loss: 0.4789 - val_accuracy: 0.7384 - val_f1_score: 0.7782 - val_loss: 0.5214\n",
      "Epoch 20/20\n",
      "\u001b[1m589/589\u001b[0m \u001b[32m━━━━━━━━━━━━━━━━━━━━\u001b[0m\u001b[37m\u001b[0m \u001b[1m1s\u001b[0m 1ms/step - accuracy: 0.7732 - f1_score: 0.7958 - loss: 0.4720 - val_accuracy: 0.7450 - val_f1_score: 0.7710 - val_loss: 0.5158\n"
     ]
    },
    {
     "name": "stderr",
     "output_type": "stream",
     "text": [
      "WARNING:absl:You are saving your model as an HDF5 file via `model.save()` or `keras.saving.save_model(model)`. This file format is considered legacy. We recommend using instead the native Keras format, e.g. `model.save('my_model.keras')` or `keras.saving.save_model(model, 'my_model.keras')`. \n"
     ]
    },
    {
     "name": "stdout",
     "output_type": "stream",
     "text": [
      "{'accuracy': [0.6868890523910522, 0.7216851115226746, 0.729547381401062, 0.7366659641265869, 0.7413408160209656, 0.7483000159263611, 0.7520717978477478, 0.7547280192375183, 0.7578623294830322, 0.7625371813774109, 0.7640246748924255, 0.7621122002601624, 0.765352725982666, 0.7655121088027954, 0.7699213624000549, 0.7699213624000549, 0.7669996023178101, 0.7701338529586792, 0.771568238735199, 0.7717807292938232], 'f1_score': [<tf.Tensor: shape=(3,), dtype=float32, numpy=array([0.65506643, 0.80583096, 0.15215091], dtype=float32)>, <tf.Tensor: shape=(3,), dtype=float32, numpy=array([0.9991079 , 0.81599087, 0.3500806 ], dtype=float32)>, <tf.Tensor: shape=(3,), dtype=float32, numpy=array([1.        , 0.81934625, 0.38993403], dtype=float32)>, <tf.Tensor: shape=(3,), dtype=float32, numpy=array([1.       , 0.8230337, 0.4178508], dtype=float32)>, <tf.Tensor: shape=(3,), dtype=float32, numpy=array([1.        , 0.82562757, 0.4340346 ], dtype=float32)>, <tf.Tensor: shape=(3,), dtype=float32, numpy=array([1.        , 0.8292981 , 0.45974907], dtype=float32)>, <tf.Tensor: shape=(3,), dtype=float32, numpy=array([1.        , 0.8311321 , 0.47496903], dtype=float32)>, <tf.Tensor: shape=(3,), dtype=float32, numpy=array([1.        , 0.83244413, 0.4853416 ], dtype=float32)>, <tf.Tensor: shape=(3,), dtype=float32, numpy=array([1.        , 0.8340855 , 0.49657607], dtype=float32)>, <tf.Tensor: shape=(3,), dtype=float32, numpy=array([1.        , 0.83760804, 0.5033333 ], dtype=float32)>, <tf.Tensor: shape=(3,), dtype=float32, numpy=array([1.        , 0.83742034, 0.5173837 ], dtype=float32)>, <tf.Tensor: shape=(3,), dtype=float32, numpy=array([1.        , 0.8362825 , 0.51188135], dtype=float32)>, <tf.Tensor: shape=(3,), dtype=float32, numpy=array([1.       , 0.8383176, 0.5202563], dtype=float32)>, <tf.Tensor: shape=(3,), dtype=float32, numpy=array([1.       , 0.838386 , 0.5209463], dtype=float32)>, <tf.Tensor: shape=(3,), dtype=float32, numpy=array([1.        , 0.84147716, 0.52949476], dtype=float32)>, <tf.Tensor: shape=(3,), dtype=float32, numpy=array([1.        , 0.84115165, 0.5323399 ], dtype=float32)>, <tf.Tensor: shape=(3,), dtype=float32, numpy=array([1.        , 0.83917564, 0.52604276], dtype=float32)>, <tf.Tensor: shape=(3,), dtype=float32, numpy=array([1.        , 0.8409015 , 0.53617746], dtype=float32)>, <tf.Tensor: shape=(3,), dtype=float32, numpy=array([1.        , 0.8419814 , 0.53832936], dtype=float32)>, <tf.Tensor: shape=(3,), dtype=float32, numpy=array([1.       , 0.8419542, 0.5402397], dtype=float32)>], 'loss': [0.6357139348983765, 0.5489137768745422, 0.5358330011367798, 0.5225529074668884, 0.5173029899597168, 0.5080665349960327, 0.5027469396591187, 0.4980410039424896, 0.49595969915390015, 0.4880868196487427, 0.4870692193508148, 0.4847668409347534, 0.48400768637657166, 0.4828495681285858, 0.4786122739315033, 0.4760506749153137, 0.4767644703388214, 0.4736316204071045, 0.47417956590652466, 0.4713706076145172], 'val_accuracy': [0.7186570167541504, 0.7345941066741943, 0.7337441444396973, 0.730981707572937, 0.739481508731842, 0.7464938163757324, 0.7467063069343567, 0.7348066568374634, 0.7416064739227295, 0.7350191473960876, 0.7441564202308655, 0.7428814172744751, 0.7418189644813538, 0.7182320356369019, 0.7396939992904663, 0.7490437626838684, 0.7390565276145935, 0.7396939992904663, 0.7384190559387207, 0.7450063824653625], 'val_f1_score': [<tf.Tensor: shape=(3,), dtype=float32, numpy=array([0.99206346, 0.8072885 , 0.4243478 ], dtype=float32)>, <tf.Tensor: shape=(3,), dtype=float32, numpy=array([1.        , 0.82674426, 0.3591585 ], dtype=float32)>, <tf.Tensor: shape=(3,), dtype=float32, numpy=array([1.        , 0.8276715 , 0.33598298], dtype=float32)>, <tf.Tensor: shape=(3,), dtype=float32, numpy=array([1.       , 0.8127218, 0.47206  ], dtype=float32)>, <tf.Tensor: shape=(3,), dtype=float32, numpy=array([1.        , 0.8233938 , 0.44675085], dtype=float32)>, <tf.Tensor: shape=(3,), dtype=float32, numpy=array([1.        , 0.8282712 , 0.46042508], dtype=float32)>, <tf.Tensor: shape=(3,), dtype=float32, numpy=array([1.        , 0.83230156, 0.41853654], dtype=float32)>, <tf.Tensor: shape=(3,), dtype=float32, numpy=array([1.        , 0.8307107 , 0.30123177], dtype=float32)>, <tf.Tensor: shape=(3,), dtype=float32, numpy=array([1.        , 0.82940507, 0.40098518], dtype=float32)>, <tf.Tensor: shape=(3,), dtype=float32, numpy=array([1.        , 0.81039983, 0.51685387], dtype=float32)>, <tf.Tensor: shape=(3,), dtype=float32, numpy=array([1.        , 0.8286852 , 0.43474174], dtype=float32)>, <tf.Tensor: shape=(3,), dtype=float32, numpy=array([1.       , 0.8274386, 0.4361603], dtype=float32)>, <tf.Tensor: shape=(3,), dtype=float32, numpy=array([1.       , 0.8192233, 0.5014362], dtype=float32)>, <tf.Tensor: shape=(3,), dtype=float32, numpy=array([1.        , 0.78749996, 0.54557914], dtype=float32)>, <tf.Tensor: shape=(3,), dtype=float32, numpy=array([1.       , 0.814422 , 0.5209229], dtype=float32)>, <tf.Tensor: shape=(3,), dtype=float32, numpy=array([1.       , 0.8297044, 0.4687359], dtype=float32)>, <tf.Tensor: shape=(3,), dtype=float32, numpy=array([1.        , 0.8226458 , 0.45031327], dtype=float32)>, <tf.Tensor: shape=(3,), dtype=float32, numpy=array([1.        , 0.81294847, 0.5304714 ], dtype=float32)>, <tf.Tensor: shape=(3,), dtype=float32, numpy=array([1.       , 0.8130599, 0.5215701], dtype=float32)>, <tf.Tensor: shape=(3,), dtype=float32, numpy=array([1.        , 0.8237367 , 0.48936167], dtype=float32)>], 'val_loss': [0.5689098834991455, 0.5366849899291992, 0.5361315011978149, 0.5356122255325317, 0.5228339433670044, 0.5191914439201355, 0.519835352897644, 0.5339911580085754, 0.5191091895103455, 0.5261427164077759, 0.5162988305091858, 0.5151580572128296, 0.5193408727645874, 0.5482946634292603, 0.5202438235282898, 0.5135976076126099, 0.514057993888855, 0.5233064293861389, 0.5214161276817322, 0.5158292651176453]}\n"
     ]
    }
   ],
   "source": [
    "# Split the data into training and validation sets\n",
    "X_train, X_val, y_train, y_val = train_test_split(images, labels, test_size=0.2, random_state=42)\n",
    "\n",
    "# Build the model (assuming you have the build_alexnet_with_residuals function defined)\n",
    "# model_builder = model_builder_v0()\n",
    "\n",
    "# input_shape = (30, 30, 1)\n",
    "\n",
    "# model = model_builder.create_model(output_shape=3)  # Adjust input shape and num_classes as needed\n",
    "\n",
    "# Train the model\n",
    "history = model.fit(X_train, y_train, \n",
    "                    validation_data=(X_val, y_val),\n",
    "                    batch_size=32, \n",
    "                    epochs=20)  # Adjust epochs as necessary\n",
    "\n",
    "# Save the model\n",
    "model.save(f'{GLOBAL_CONFIG_RESULT_PATH}testing/mv0/model1.h5')  # Save the trained model for later use\n",
    "\n",
    "# Optional: Print training history\n",
    "print(history.history)"
   ]
  }
 ],
 "metadata": {
  "kernelspec": {
   "display_name": "venv",
   "language": "python",
   "name": "python3"
  },
  "language_info": {
   "codemirror_mode": {
    "name": "ipython",
    "version": 3
   },
   "file_extension": ".py",
   "mimetype": "text/x-python",
   "name": "python",
   "nbconvert_exporter": "python",
   "pygments_lexer": "ipython3",
   "version": "3.12.7"
  }
 },
 "nbformat": 4,
 "nbformat_minor": 2
}
